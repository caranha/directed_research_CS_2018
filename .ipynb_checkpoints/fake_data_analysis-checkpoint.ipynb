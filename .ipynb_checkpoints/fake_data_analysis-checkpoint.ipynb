{
 "cells": [
  {
   "cell_type": "markdown",
   "metadata": {},
   "source": [
    "# Fake Data Analysis"
   ]
  },
  {
   "cell_type": "code",
   "execution_count": 1,
   "metadata": {},
   "outputs": [],
   "source": [
    "import pandas as pd\n",
    "import seaborn as sns\n",
    "import numpy as np\n",
    "from scipy.stats import norm\n",
    "import ipywidgets as widgets\n",
    "import matplotlib.pyplot as plt\n",
    "import glob\n",
    "from IPython.display import display"
   ]
  },
  {
   "cell_type": "code",
   "execution_count": 10,
   "metadata": {},
   "outputs": [
    {
     "data": {
      "application/vnd.jupyter.widget-view+json": {
       "model_id": "244f1b137ea8466a9283abcfd33bc594",
       "version_major": 2,
       "version_minor": 0
      },
      "text/plain": [
       "Dropdown(description='Original file:', index=2, options=('creditcard.csv', 'data.csv', 'diabetes.csv'), value=…"
      ]
     },
     "metadata": {},
     "output_type": "display_data"
    },
    {
     "data": {
      "application/vnd.jupyter.widget-view+json": {
       "model_id": "3aaea997c13d4015acd71d3d6005940e",
       "version_major": 2,
       "version_minor": 0
      },
      "text/plain": [
       "Dropdown(description='Fake file:', options=('fake_data/diabetes_999.csv', 'fake_data/diabetes.csv', 'fake_data…"
      ]
     },
     "metadata": {},
     "output_type": "display_data"
    }
   ],
   "source": [
    "files_dropdown = widgets.Dropdown(\n",
    "    options=glob.glob(\"*.csv\"),\n",
    "    description='Original file:',\n",
    "    value = 'diabetes.csv',\n",
    "    disabled=False,\n",
    ")\n",
    "display(files_dropdown)\n",
    "\n",
    "fake_files_dropdown = widgets.Dropdown(\n",
    "    options=glob.glob(\"fake_data/*.csv\"),\n",
    "    description='Fake file:',\n",
    "    disabled=False,\n",
    ")\n",
    "display(fake_files_dropdown)"
   ]
  },
  {
   "cell_type": "code",
   "execution_count": 11,
   "metadata": {},
   "outputs": [
    {
     "name": "stdout",
     "output_type": "stream",
     "text": [
      "Pima Indians Diabetes Database \n",
      "\n",
      "Normal 65.1 %  of the dataset\n",
      "Diabets 34.9 %  of the dataset\n"
     ]
    }
   ],
   "source": [
    "file_name=files_dropdown.value\n",
    "if file_name == \"data.csv\":\n",
    "    message = \"Breast Cancer Wisconsin (Diagnostic) Data Set\"\n",
    "    class_name = \"diagnosis\"\n",
    "    values_names = {0: \"Benign\", 1: \"Malignant\"}\n",
    "elif file_name == \"creditcard.csv\":\n",
    "    message = \"Credit Card Fraud Detection\"\n",
    "    class_name = \"Class\"\n",
    "    values_names = {0: \"No Frauds\", 1: \"Frauds\"}\n",
    "elif file_name == \"diabetes.csv\":\n",
    "    message=\"Pima Indians Diabetes Database\"\n",
    "    class_name = \"Outcome\"\n",
    "    values_names = {0: \"Normal\", 1: \"Diabets\"}\n",
    "else:\n",
    "     exit()\n",
    "    \n",
    "    \n",
    "data = pd.read_csv(file_name)\n",
    "fake_data = pd.read_csv(fake_files_dropdown.value).tail(1000)\n",
    "print(message, \"\\n\")\n",
    "print(values_names[0], round(data[class_name].value_counts()[0]/len(data) * 100,2), '%  of the dataset')\n",
    "print(values_names[1], round(data[class_name].value_counts()[1]/len(data) * 100,2), '%  of the dataset')"
   ]
  },
  {
   "cell_type": "code",
   "execution_count": 12,
   "metadata": {},
   "outputs": [
    {
     "data": {
      "text/plain": [
       "<Figure size 432x288 with 0 Axes>"
      ]
     },
     "metadata": {},
     "output_type": "display_data"
    }
   ],
   "source": [
    "classes = list(data)\n",
    "\n",
    "for name in classes:\n",
    "    if name==class_name or name==\"Unnamed: 32\":\n",
    "        continue\n",
    "        \n",
    "    plt.xlabel('Values')\n",
    "    plt.ylabel('Probability')\n",
    "    plt.title(name + \" distribution\")\n",
    "    real_dist = data[name].values\n",
    "    fake_dist = fake_data[name].values\n",
    "    plt.hist(real_dist, 50, density=True, alpha=0.5)\n",
    "    plt.hist(fake_dist, 50, density=True, alpha=0.5, facecolor='r')\n",
    "    plt.savefig('fake_data/'+ file_name[:-4] + \"/\"+name+'_distribution.png')\n",
    "    plt.clf()\n"
   ]
  },
  {
   "cell_type": "code",
   "execution_count": null,
   "metadata": {},
   "outputs": [],
   "source": []
  }
 ],
 "metadata": {
  "kernelspec": {
   "display_name": "Python 3",
   "language": "python",
   "name": "python3"
  },
  "language_info": {
   "codemirror_mode": {
    "name": "ipython",
    "version": 3
   },
   "file_extension": ".py",
   "mimetype": "text/x-python",
   "name": "python",
   "nbconvert_exporter": "python",
   "pygments_lexer": "ipython3",
   "version": "3.6.5"
  }
 },
 "nbformat": 4,
 "nbformat_minor": 2
}
