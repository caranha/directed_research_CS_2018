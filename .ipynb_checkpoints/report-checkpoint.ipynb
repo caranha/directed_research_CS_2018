{
 "cells": [
  {
   "cell_type": "markdown",
   "metadata": {},
   "source": [
    "# Week 0\n",
    "\n",
    "- Learned the basics of jupyter\n",
    "- Imported everything to jupyter\n",
    "- Divided some files in smaller ones to keep the code a little bit cleaner\n",
    "- It is now possible to select what file do you want the data to come from directly from the code\n",
    "- Gan is not working correctly, dicovered that this happens because the output of the generator is scalated to be in the interval [0,1]"
   ]
  },
  {
   "cell_type": "markdown",
   "metadata": {},
   "source": [
    "# Week 1\n",
    "\n",
    "- It is now possible to vizualize the error growth\n",
    "- Example of error growth in the diabetes database, the blue line is the discriminator error and the red line is the generator error:\n",
    "![alt text](./images/diabetes/error.png \"error growth\")\n",
    "- The points created by the generator are now saved in a .csv file\n",
    "- Created histograms to compare the fake data and the real one in the diabetes database\n",
    "- The images below compare the values distribution of the real (blue) and the fake (red) diabetes data. Note that I am not comparing positive and negative results, only if the distribution of the fake data is close to the real.\n",
    "\n",
    "![alt text](./fake_data/diabetes/Age_distribution.png \"Age_distribution\")\n",
    "![alt text](./fake_data/diabetes/DiabetesPedigreeFunction_distribution.png \"DiabetesPedigreeFunction_distribution\")\n",
    "![alt text](./fake_data/diabetes/Pregnancies_distribution.png \"Pregnancies_distribution\")\n",
    "![alt text](./fake_data/diabetes/BloodPressure_distribution.png \"BloodPressure_distribution\")\n",
    "![alt text](./fake_data/diabetes/Glucose_distribution.png \"Glucose_distribution\")\n",
    "![alt text](./fake_data/diabetes/SkinThickness_distribution.png \"SkinThickness_distribution\")\n",
    "![alt text](./fake_data/diabetes/BMI_distribution.png \"BMI_distribution\")\n",
    "![alt text](./fake_data/diabetes/Insulin_distribution.png \"Insulin_distribution\")"
   ]
  },
  {
   "cell_type": "code",
   "execution_count": null,
   "metadata": {},
   "outputs": [],
   "source": []
  }
 ],
 "metadata": {
  "kernelspec": {
   "display_name": "Python 3",
   "language": "python",
   "name": "python3"
  },
  "language_info": {
   "codemirror_mode": {
    "name": "ipython",
    "version": 3
   },
   "file_extension": ".py",
   "mimetype": "text/x-python",
   "name": "python",
   "nbconvert_exporter": "python",
   "pygments_lexer": "ipython3",
   "version": "3.6.5"
  }
 },
 "nbformat": 4,
 "nbformat_minor": 2
}
