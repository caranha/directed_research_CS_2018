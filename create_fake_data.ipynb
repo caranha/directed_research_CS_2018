{
 "cells": [
  {
   "cell_type": "code",
   "execution_count": 3,
   "metadata": {},
   "outputs": [],
   "source": [
    "import torch\n",
    "import pandas as pd\n",
    "from torch import nn, optim\n",
    "from torch.autograd.variable import Variable\n",
    "from torchvision import transforms, datasets\n",
    "from data_treatment import DataSet, DataAtts\n",
    "from discriminator import *\n",
    "from generator import *\n",
    "import ipywidgets as widgets\n",
    "from IPython.display import display\n",
    "import matplotlib.pyplot as plt\n",
    "import glob"
   ]
  },
  {
   "cell_type": "code",
   "execution_count": 4,
   "metadata": {},
   "outputs": [
    {
     "data": {
      "application/vnd.jupyter.widget-view+json": {
       "model_id": "36aff2cb4fa1494393b2686a9a7b40ec",
       "version_major": 2,
       "version_minor": 0
      },
      "text/plain": [
       "Dropdown(description='Folder:', index=5, options=('models/data', 'models/data_escalonated', 'models/diabetes',…"
      ]
     },
     "metadata": {},
     "output_type": "display_data"
    }
   ],
   "source": [
    "folder = widgets.Dropdown(\n",
    "    options=glob.glob(\"models/*\"),\n",
    "    description='Folder:',\n",
    "    value=\"models/diabetes_escalonated\",\n",
    "    disabled=False,\n",
    ")\n",
    "display(folder)"
   ]
  },
  {
   "cell_type": "code",
   "execution_count": 6,
   "metadata": {},
   "outputs": [
    {
     "data": {
      "application/vnd.jupyter.widget-view+json": {
       "model_id": "5361e886679f48dc9f3cf5bb5ad90ff9",
       "version_major": 2,
       "version_minor": 0
      },
      "text/plain": [
       "Dropdown(description='Folder:', options=('models/diabetes_escalonated/generator_id-16_epochs-2_layer-1_lr-0.00…"
      ]
     },
     "metadata": {},
     "output_type": "display_data"
    }
   ],
   "source": [
    "\n",
    "\n",
    "folder_name = folder.value+\"/generator*.pt\"\n",
    "model_widget = widgets.Dropdown(\n",
    "    options=glob.glob(folder_name),\n",
    "    description='Folder:',\n",
    "    disabled=False,\n",
    ")\n",
    "display(model_widget)"
   ]
  },
  {
   "cell_type": "code",
   "execution_count": 8,
   "metadata": {},
   "outputs": [],
   "source": [
    "original_db_name = folder.value[7:]\n",
    "original_db_path = \"original_data/\" + original_db_name + \".csv\"\n",
    "original_db = pd.read_csv(original_db_path)\n",
    "original_db_size=original_db.shape[0]"
   ]
  },
  {
   "cell_type": "code",
   "execution_count": 9,
   "metadata": {},
   "outputs": [],
   "source": [
    "try:\n",
    "    checkpoint= torch.load(model_widget.value, map_location='cuda')\n",
    "except:\n",
    "    checkpoint= torch.load(model_widget.value, map_location='cpu')\n",
    "checkpoint['model_attributes']['out_features'] = len(original_db.columns)\n",
    "generator = GeneratorNet(**checkpoint['model_attributes'])\n",
    "generator.load_state_dict(checkpoint['model_state_dict'])"
   ]
  },
  {
   "cell_type": "code",
   "execution_count": 10,
   "metadata": {},
   "outputs": [],
   "source": [
    "size = original_db_size\n",
    "new_data = generator.create_data(size)\n",
    "df = pd.DataFrame(new_data, columns=original_db.columns)\n",
    "#Changes the name to be easier to read\n",
    "name = model_widget.value.split(\"/\")[-1][10:-4] + \"_size-\" + str(size)\n",
    "df.to_csv( \"fake_data/\" + original_db_name + \"/\" + name + \".csv\", index=False)"
   ]
  },
  {
   "cell_type": "code",
   "execution_count": 9,
   "metadata": {},
   "outputs": [
    {
     "name": "stdout",
     "output_type": "stream",
     "text": [
      "id-16_epochs-2_layer-1_lr-0.0002_batch-5_arc-12\n",
      "id-12_epochs-2_layer-2_lr-0.0002_batch-5_arc-128,25\n",
      "id-3_epochs-2_layer-2_lr-0.0002_batch-5_arc-256,51\n",
      "id-2_epochs-2_layer-3_lr-0.0002_batch-5_arc-256,512,102\n",
      "id-6_epochs-2_layer-1_lr-0.0002_batch-5_arc-25\n",
      "id-13_epochs-2_layer-2_lr-0.0002_batch-5_arc-128,25\n",
      "id-15_epochs-2_layer-1_lr-0.0002_batch-5_arc-12\n",
      "id-1_epochs-2_layer-3_lr-0.0002_batch-5_arc-256,512,102\n",
      "id-14_epochs-2_layer-2_lr-0.0002_batch-5_arc-128,25\n",
      "id-9_epochs-2_layer-3_lr-0.0002_batch-5_arc-128,256,51\n",
      "id-0_epochs-2_layer-3_lr-0.0002_batch-5_arc-256,512,102\n",
      "id-8_epochs-2_layer-1_lr-0.0002_batch-5_arc-25\n",
      "id-10_epochs-2_layer-3_lr-0.0002_batch-5_arc-128,256,51\n",
      "id-7_epochs-2_layer-1_lr-0.0002_batch-5_arc-25\n",
      "id-4_epochs-2_layer-2_lr-0.0002_batch-5_arc-256,51\n",
      "id-17_epochs-2_layer-1_lr-0.0002_batch-5_arc-12\n",
      "id-11_epochs-2_layer-3_lr-0.0002_batch-5_arc-128,256,51\n",
      "id-5_epochs-2_layer-2_lr-0.0002_batch-5_arc-256,51\n"
     ]
    }
   ],
   "source": [
    "#Do the same thing as the cells above but for all the files in the directory\n",
    "import glob\n",
    "for file in glob.glob(folder_name):\n",
    "    name = file.split(\"/\")[-1][10:-4]\n",
    "    print(name)\n",
    "    try:\n",
    "        checkpoint= torch.load(file, map_location='cuda')\n",
    "    except:\n",
    "        checkpoint= torch.load(file, map_location='cpu')\n",
    "    generator = GeneratorNet(**checkpoint['model_attributes'])\n",
    "    generator.load_state_dict(checkpoint['model_state_dict'])\n",
    "    size = original_db_size\n",
    "    new_data = generator.create_data(size)\n",
    "    df = pd.DataFrame(new_data, columns=original_db.columns)\n",
    "    name = name + \"_size-\" + str(size)\n",
    "    df.to_csv( \"fake_data/\" + original_db_name + \"/\" + name + \".csv\", index=False)"
   ]
  },
  {
   "cell_type": "code",
   "execution_count": null,
   "metadata": {},
   "outputs": [],
   "source": []
  }
 ],
 "metadata": {
  "kernelspec": {
   "display_name": "Python 3",
   "language": "python",
   "name": "python3"
  },
  "language_info": {
   "codemirror_mode": {
    "name": "ipython",
    "version": 3
   },
   "file_extension": ".py",
   "mimetype": "text/x-python",
   "name": "python",
   "nbconvert_exporter": "python",
   "pygments_lexer": "ipython3",
   "version": "3.6.5"
  }
 },
 "nbformat": 4,
 "nbformat_minor": 2
}
