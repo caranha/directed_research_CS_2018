{
 "cells": [
  {
   "cell_type": "code",
   "execution_count": 1,
   "metadata": {},
   "outputs": [],
   "source": [
    "import torch\n",
    "import pandas as pd\n",
    "from torch import nn, optim\n",
    "from torch.autograd.variable import Variable\n",
    "from torchvision import transforms, datasets\n",
    "from data_treatment import DataSet, DataAtts\n",
    "from discriminator import *\n",
    "from generator import *\n",
    "import ipywidgets as widgets\n",
    "from IPython.display import display\n",
    "import matplotlib.pyplot as plt\n",
    "import glob"
   ]
  },
  {
   "cell_type": "code",
   "execution_count": 2,
   "metadata": {},
   "outputs": [
    {
     "data": {
      "application/vnd.jupyter.widget-view+json": {
       "model_id": "e2a1ab61bdf342398b7c7253c6cec3c1",
       "version_major": 2,
       "version_minor": 0
      },
      "text/plain": [
       "Dropdown(description='Folder:', index=2, options=('models/data_escalonated', 'models/creditcard_escalonated', …"
      ]
     },
     "metadata": {},
     "output_type": "display_data"
    }
   ],
   "source": [
    "folder = widgets.Dropdown(\n",
    "    options=glob.glob(\"models/*\"),\n",
    "    description='Folder:',\n",
    "    value=\"models/diabetes_escalonated\",\n",
    "    disabled=False,\n",
    ")\n",
    "display(folder)"
   ]
  },
  {
   "cell_type": "code",
   "execution_count": 4,
   "metadata": {},
   "outputs": [
    {
     "data": {
      "application/vnd.jupyter.widget-view+json": {
       "model_id": "95af8f557f7f4b2288b49c1568c7c1d7",
       "version_major": 2,
       "version_minor": 0
      },
      "text/plain": [
       "Dropdown(description='Folder:', options=('models/creditcard_1s_escalonated/generator_id-10_epochs-1500_layer-3…"
      ]
     },
     "metadata": {},
     "output_type": "display_data"
    }
   ],
   "source": [
    "\n",
    "\n",
    "folder_name = folder.value+\"/generator*.pt\"\n",
    "model_widget = widgets.Dropdown(\n",
    "    options=glob.glob(folder_name),\n",
    "    description='Folder:',\n",
    "    disabled=False,\n",
    ")\n",
    "display(model_widget)"
   ]
  },
  {
   "cell_type": "code",
   "execution_count": 5,
   "metadata": {},
   "outputs": [],
   "source": [
    "original_db_name = folder.value[7:]\n",
    "original_db_path = \"original_data/\" + original_db_name + \".csv\"\n",
    "original_db = pd.read_csv(original_db_path)\n",
    "original_db_size=original_db.shape[0]"
   ]
  },
  {
   "cell_type": "code",
   "execution_count": 6,
   "metadata": {},
   "outputs": [],
   "source": [
    "try:\n",
    "    checkpoint= torch.load(model_widget.value, map_location='cuda')\n",
    "except:\n",
    "    checkpoint= torch.load(model_widget.value, map_location='cpu')\n",
    "checkpoint['model_attributes']['out_features'] = len(original_db.columns)\n",
    "generator = GeneratorNet(**checkpoint['model_attributes'])\n",
    "generator.load_state_dict(checkpoint['model_state_dict'])"
   ]
  },
  {
   "cell_type": "code",
   "execution_count": 8,
   "metadata": {},
   "outputs": [],
   "source": [
    "size = 198596\n",
    "new_data = generator.create_data(size)\n",
    "df = pd.DataFrame(new_data, columns=original_db.columns)\n",
    "#Changes the name to be easier to read\n",
    "name = model_widget.value.split(\"/\")[-1][10:-4] + \"_size-\" + str(size)\n",
    "df.to_csv( \"fake_data/\" + original_db_name + \"/\" + name + \".csv\", index=False)"
   ]
  },
  {
   "cell_type": "code",
   "execution_count": 9,
   "metadata": {},
   "outputs": [
    {
     "name": "stdout",
     "output_type": "stream",
     "text": [
      "id-10_epochs-1500_layer-3_lr-0.0002_batch-5_arc-128,256,51\n",
      "id-1_epochs-1500_layer-3_lr-0.0002_batch-5_arc-256,512,102\n",
      "id-8_epochs-1500_layer-1_lr-0.0002_batch-5_arc-25\n",
      "id-3_epochs-1500_layer-2_lr-0.0002_batch-5_arc-256,51\n",
      "id-5_epochs-1500_layer-2_lr-0.0002_batch-5_arc-256,51\n",
      "id-0_epochs-1500_layer-3_lr-0.0002_batch-5_arc-256,512,102\n",
      "id-9_epochs-1500_layer-3_lr-0.0002_batch-5_arc-128,256,51\n",
      "id-7_epochs-1500_layer-1_lr-0.0002_batch-5_arc-25\n",
      "id-4_epochs-1500_layer-2_lr-0.0002_batch-5_arc-256,51\n",
      "id-2_epochs-1500_layer-3_lr-0.0002_batch-5_arc-256,512,102\n",
      "id-6_epochs-1500_layer-1_lr-0.0002_batch-5_arc-25\n"
     ]
    }
   ],
   "source": [
    "#Do the same thing as the cells above but for all the files in the directory\n",
    "import glob\n",
    "for file in glob.glob(folder_name):\n",
    "    name = file.split(\"/\")[-1][10:-4]\n",
    "    print(name)\n",
    "    try:\n",
    "        checkpoint= torch.load(file, map_location='cuda')\n",
    "    except:\n",
    "        checkpoint= torch.load(file, map_location='cpu')\n",
    "    generator = GeneratorNet(**checkpoint['model_attributes'])\n",
    "    generator.load_state_dict(checkpoint['model_state_dict'])\n",
    "    size = 198596\n",
    "    new_data = generator.create_data(size)\n",
    "    df = pd.DataFrame(new_data, columns=original_db.columns)\n",
    "    name = name + \"_size-\" + str(size)\n",
    "    df.to_csv( \"fake_data/\" + original_db_name + \"/\" + name + \".csv\", index=False)"
   ]
  },
  {
   "cell_type": "code",
   "execution_count": null,
   "metadata": {},
   "outputs": [],
   "source": []
  }
 ],
 "metadata": {
  "kernelspec": {
   "display_name": "Python 3",
   "language": "python",
   "name": "python3"
  },
  "language_info": {
   "codemirror_mode": {
    "name": "ipython",
    "version": 3
   },
   "file_extension": ".py",
   "mimetype": "text/x-python",
   "name": "python",
   "nbconvert_exporter": "python",
   "pygments_lexer": "ipython3",
   "version": "3.6.5"
  }
 },
 "nbformat": 4,
 "nbformat_minor": 2
}
