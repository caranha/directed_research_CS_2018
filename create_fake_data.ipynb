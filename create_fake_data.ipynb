{
 "cells": [
  {
   "cell_type": "code",
   "execution_count": 1,
   "metadata": {},
   "outputs": [],
   "source": [
    "import torch\n",
    "import pandas as pd\n",
    "from torch import nn, optim\n",
    "from torch.autograd.variable import Variable\n",
    "from torchvision import transforms, datasets\n",
    "from data_treatment import DataSet, DataAtts\n",
    "from discriminator import *\n",
    "from generator import *\n",
    "import ipywidgets as widgets\n",
    "from IPython.display import display\n",
    "import matplotlib.pyplot as plt\n",
    "import glob"
   ]
  },
  {
   "cell_type": "code",
   "execution_count": 2,
   "metadata": {},
   "outputs": [
    {
     "data": {
      "application/vnd.jupyter.widget-view+json": {
       "model_id": "e2e30422c7794689adcc0073fa0c3122",
       "version_major": 2,
       "version_minor": 0
      },
      "text/plain": [
       "Dropdown(description='Folder:', index=3, options=('models/data', 'models/data_escalonated', 'models/diabetes',…"
      ]
     },
     "metadata": {},
     "output_type": "display_data"
    }
   ],
   "source": [
    "folder = widgets.Dropdown(\n",
    "    options=glob.glob(\"models/*\"),\n",
    "    description='Folder:',\n",
    "    value=\"models/diabetes_escalonated\",\n",
    "    disabled=False,\n",
    ")\n",
    "display(folder)"
   ]
  },
  {
   "cell_type": "code",
   "execution_count": 3,
   "metadata": {},
   "outputs": [
    {
     "data": {
      "application/vnd.jupyter.widget-view+json": {
       "model_id": "12dbb94cb55747beac35c993eb3249b3",
       "version_major": 2,
       "version_minor": 0
      },
      "text/plain": [
       "Dropdown(description='Folder:', options=('models/diabetes_escalonated/generator_2_layer-1_lr-0.0002_batch-5_ar…"
      ]
     },
     "metadata": {},
     "output_type": "display_data"
    }
   ],
   "source": [
    "\n",
    "\n",
    "folder_name = folder.value+\"/generator*2499.pt\"\n",
    "model_widget = widgets.Dropdown(\n",
    "    options=glob.glob(folder_name),\n",
    "    description='Folder:',\n",
    "    disabled=False,\n",
    ")\n",
    "display(model_widget)"
   ]
  },
  {
   "cell_type": "code",
   "execution_count": 26,
   "metadata": {},
   "outputs": [],
   "source": [
    "checkpoint= torch.load(model_widget.value)\n",
    "generator = GeneratorNet(**checkpoint['model_attributes'])\n",
    "generator.load_state_dict(checkpoint['model_state_dict'])"
   ]
  },
  {
   "cell_type": "code",
   "execution_count": 27,
   "metadata": {},
   "outputs": [],
   "source": [
    "original_db_name = folder.value[7:]\n",
    "original_db_path = \"original_data/\" + original_db_name + \".csv\"\n",
    "original_db = pd.read_csv(original_db_path)\n",
    "original_db_size=original_db.shape[0]"
   ]
  },
  {
   "cell_type": "code",
   "execution_count": 28,
   "metadata": {},
   "outputs": [],
   "source": [
    "new_data = generator.create_data(800)\n",
    "df = pd.DataFrame(new_data, columns=original_db.columns)\n",
    "name = \"id-5_epochs-2500\"\n",
    "df.to_csv( \"fake_data/\" + original_db_name + \"/\" + name + \".csv\", index=False)"
   ]
  },
  {
   "cell_type": "code",
   "execution_count": null,
   "metadata": {},
   "outputs": [],
   "source": []
  }
 ],
 "metadata": {
  "kernelspec": {
   "display_name": "Python 3",
   "language": "python",
   "name": "python3"
  },
  "language_info": {
   "codemirror_mode": {
    "name": "ipython",
    "version": 3
   },
   "file_extension": ".py",
   "mimetype": "text/x-python",
   "name": "python",
   "nbconvert_exporter": "python",
   "pygments_lexer": "ipython3",
   "version": "3.6.5"
  }
 },
 "nbformat": 4,
 "nbformat_minor": 2
}
