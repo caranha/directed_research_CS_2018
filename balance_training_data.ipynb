{
 "cells": [
  {
   "cell_type": "code",
   "execution_count": 1,
   "metadata": {},
   "outputs": [],
   "source": [
    "import pandas as pd\n",
    "import numpy as np\n",
    "from data_treatment import DataAtts\n",
    "import ipywidgets as widgets\n",
    "import glob\n",
    "from collections import Counter"
   ]
  },
  {
   "cell_type": "code",
   "execution_count": 2,
   "metadata": {},
   "outputs": [
    {
     "data": {
      "application/vnd.jupyter.widget-view+json": {
       "model_id": "33926fd7b0ed43efbbd0b8bf46e2e785",
       "version_major": 2,
       "version_minor": 0
      },
      "text/plain": [
       "Dropdown(description='File to be balanced:', index=4, options=('original_data/creditcard_1s_escalonated.csv', …"
      ]
     },
     "metadata": {},
     "output_type": "display_data"
    }
   ],
   "source": [
    "files_dropdown = widgets.Dropdown(\n",
    "    options=glob.glob(\"original_data/*.csv\"),\n",
    "    description='File to be balanced:',\n",
    "    value = 'original_data/creditcard_escalonated.csv',\n",
    "    disabled=False,\n",
    ")\n",
    "display(files_dropdown)"
   ]
  },
  {
   "cell_type": "code",
   "execution_count": 3,
   "metadata": {},
   "outputs": [
    {
     "name": "stdout",
     "output_type": "stream",
     "text": [
      "creditcard_1s_escalonated\n"
     ]
    },
    {
     "data": {
      "application/vnd.jupyter.widget-view+json": {
       "model_id": "342156a8b7d14a4c9c4913dcb84f3c71",
       "version_major": 2,
       "version_minor": 0
      },
      "text/plain": [
       "Dropdown(description='Fake file:', options=('fake_data/creditcard_1s_escalonated/id-0_epochs-5000_layer-2_lr-0…"
      ]
     },
     "metadata": {},
     "output_type": "display_data"
    }
   ],
   "source": [
    "folder_name = \"creditcard_1s_escalonated\"\n",
    "print(folder_name)\n",
    "fake_files_dropdown = widgets.Dropdown(\n",
    "    options=glob.glob(\"fake_data/\" + folder_name + \"/*.csv\"),\n",
    "    description='Fake file:',\n",
    "    disabled=False,\n",
    ")\n",
    "display(fake_files_dropdown)"
   ]
  },
  {
   "cell_type": "code",
   "execution_count": 4,
   "metadata": {},
   "outputs": [],
   "source": [
    "file_name=files_dropdown.value\n",
    "dataAtts = DataAtts(file_name)    \n",
    "data = pd.read_csv(file_name)\n",
    "train_data = data.head(int(data.shape[0]*0.7))"
   ]
  },
  {
   "cell_type": "code",
   "execution_count": 5,
   "metadata": {},
   "outputs": [],
   "source": [
    "fake_data = pd.read_csv(fake_files_dropdown.value)\n",
    "#makes the outcome be 0 or 1\n",
    "fake_data.loc[getattr(fake_data, dataAtts.class_name) >= 0.5, dataAtts.class_name] = 1\n",
    "fake_data.loc[getattr(fake_data, dataAtts.class_name) < 0.5, dataAtts.class_name] = 0"
   ]
  },
  {
   "cell_type": "code",
   "execution_count": 6,
   "metadata": {},
   "outputs": [],
   "source": [
    "balanced_data = pd.concat([train_data, fake_data])"
   ]
  },
  {
   "cell_type": "code",
   "execution_count": 7,
   "metadata": {},
   "outputs": [
    {
     "name": "stdout",
     "output_type": "stream",
     "text": [
      "[(0.0, 198980), (1.0, 55209)]\n"
     ]
    }
   ],
   "source": [
    "y = balanced_data[dataAtts.class_name]\n",
    "print(sorted(Counter(y).items()))\n",
    "name= fake_files_dropdown.value.split(\"/\")[-1][:-4]\n",
    "balanced_data.to_csv( \"fake_data/creditcard_balanced_training/\" + name + \".csv\", index=False)"
   ]
  },
  {
   "cell_type": "code",
   "execution_count": 8,
   "metadata": {},
   "outputs": [
    {
     "name": "stdout",
     "output_type": "stream",
     "text": [
      "id-0_epochs-5000_layer-2_lr-0.0002_batch-5_arc-256,51_size-198596\n",
      "id-17_epochs-5000_layer-1_lr-0.0002_batch-5_arc-128_size-198596\n",
      "id-2_epochs-5000_layer-2_lr-0.0002_batch-5_arc-256,512_size-198596\n",
      "id-10_epochs-5000_layer-2_lr-0.0002_batch-5_arc-128,256_size-198596\n",
      "id-3_epochs-5000_layer-2_lr-0.0002_batch-5_arc-256,512_size-198596\n",
      "id-0_epochs-5000_layer-2_lr-0.0002_batch-5_arc-256,512_size-198596\n",
      "id-7_epochs-5000_layer-1_lr-0.0002_batch-5_arc-256_size-198596\n",
      "id-13_epochs-5000_layer-2_lr-0.0002_batch-5_arc-128,256_size-198596\n",
      "id-16_epochs-5000_layer-1_lr-0.0002_batch-5_arc-128_size-198596\n",
      "id-5_epochs-5000_layer-1_lr-0.0002_batch-5_arc-256_size-198596\n",
      "id-6_epochs-5000_layer-1_lr-0.0002_batch-5_arc-256_size-198596\n",
      "id-14_epochs-5000_layer-2_lr-0.0002_batch-5_arc-128,256_size-198596\n",
      "id-18_epochs-5000_layer-1_lr-0.0002_batch-5_arc-128_size-198596\n",
      "id-8_epochs-5000_layer-1_lr-0.0002_batch-5_arc-256_size-198596\n",
      "id-4_epochs-5000_layer-2_lr-0.0002_batch-5_arc-256,512_size-198596\n",
      "id-1_epochs-5000_layer-2_lr-0.0002_batch-5_arc-256,512_size-198596\n",
      "id-15_epochs-5000_layer-1_lr-0.0002_batch-5_arc-128_size-198596\n",
      "id-9_epochs-5000_layer-1_lr-0.0002_batch-5_arc-256_size-198596\n",
      "id-19_epochs-5000_layer-1_lr-0.0002_batch-5_arc-128_size-198596\n",
      "id-11_epochs-5000_layer-2_lr-0.0002_batch-5_arc-128,256_size-198596\n",
      "id-12_epochs-5000_layer-2_lr-0.0002_batch-5_arc-128,256_size-198596\n"
     ]
    }
   ],
   "source": [
    "import glob\n",
    "for file in glob.glob(\"fake_data/\" + folder_name + \"/*\"):\n",
    "    name = file.split(\"/\")[-1][:-4]\n",
    "    print(name)\n",
    "    fake_data = pd.read_csv(file)\n",
    "    balanced_data = pd.concat([train_data, fake_data])\n",
    "    balanced_data.to_csv( \"fake_data/creditcard_balanced_training/\" + name + \".csv\", index=False)"
   ]
  },
  {
   "cell_type": "code",
   "execution_count": null,
   "metadata": {},
   "outputs": [],
   "source": []
  }
 ],
 "metadata": {
  "kernelspec": {
   "display_name": "Python 3",
   "language": "python",
   "name": "python3"
  },
  "language_info": {
   "codemirror_mode": {
    "name": "ipython",
    "version": 3
   },
   "file_extension": ".py",
   "mimetype": "text/x-python",
   "name": "python",
   "nbconvert_exporter": "python",
   "pygments_lexer": "ipython3",
   "version": "3.6.5"
  }
 },
 "nbformat": 4,
 "nbformat_minor": 2
}
