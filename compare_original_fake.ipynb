{
 "cells": [
  {
   "cell_type": "markdown",
   "metadata": {},
   "source": [
    "# Results Tables\n",
    "Tree: max_depth = 3, min_samples_leaf = 1\n",
    "Proportion: outcome=0/outcome=1"
   ]
  },
  {
   "cell_type": "markdown",
   "metadata": {},
   "source": [
    "## Diabetes\n",
    "\n",
    "| Database  | Proportion    | Test Error    |\n",
    "| --------- | ---------:    | :---------    |\n",
    "| original  | 64.8/35.2     | 0.2522        |\n",
    "| fake0     | 69.83/30.17   | 0.6565        |\n",
    "| fake1     | 69.09/30.91   | 0.5391        |\n",
    "| fake2     | 65.18/34.82   | 0.6565        |\n",
    "| fake3     | 65.92/34.08   | 0.6565        |\n",
    "| fake4     | 63.13/36.87   | 0.4652        |\n",
    "| fake5     | 68.72/31.28   | 0.6217        |\n",
    "\n",
    "\n",
    "## Diabetes Scalonated\n",
    "\n",
    "| Database  | Proportion    | Test Error    |\n",
    "| --------- | ---------:    | :---------    |\n",
    "| original  | 64.8/35.2     | 0.2522        |\n",
    "| fake0     | 71.69/28.31   | 0.3           |\n",
    "| fake1     | 67.23/32.77   | 0.4522        |\n",
    "| fake2     | 67.6/32.4     | 0.2522        |\n",
    "| fake3     | 60.15/39.85   | 0.3391        |\n",
    "| fake4     | 65.18/34.82   | 0.2609        |\n",
    "| fake5     | 68.9/31.1     | 0.313         |\n",
    "\n",
    "## Data\n",
    "\n",
    "| Database  | Proportion    | Test Error    |\n",
    "| --------- | ---------:    | :---------    |\n",
    "| original  | 56.53/43.47   | 0.1176    |\n",
    "| fake0_layer-3_lr-0.0002_arc-256,512,102_size-569.csv      | 100.0/0       | 0.2294    |\n",
    "| fake0_layer-2_lr-0.0002_arc-256,51_size-569.csv           | 100.0/0       | 0.2294    |\n",
    "| fake1_layer-2_lr-0.0002_arc-256,51_size-569.csv           | 100.0/0       | 0.2294    |\n",
    "| fake1_layer-1_lr-0.0002_arc-25_size-569.csv               | 0/100.0       | 0.7706    |\n",
    "| fake2_layer-2_lr-0.0002_arc-128,25_size-569.csv           | 100.0/0       | 0.2294    |\n",
    "| fake2_layer-1_lr-0.0002_arc-25_size-569.csv               | 100.0/0       | 0.2294    |\n",
    "| fake3_layer-3_lr-0.0002_arc-128,256,51_size-569.csv       | 100.0/0       | 0.2294    |\n",
    "| fake3_layer-1_lr-0.0002_arc-12_size-569.csv               | 100.0/0       | 0.2294    |\n",
    "| fake4_layer-2_lr-0.001_arc-256,51_size-569.csv            | 100.0/0       | 0.2294    |\n",
    "| fake4_layer-2_lr-0.0002_arc-128,25_size-569.csv           | 100.0/0       | 0.2294    |\n",
    "| fake5_layer-1_lr-0.001_arc-25_size-569.csv                | 83.42/16.58   | 0.2294    |\n",
    "| fake5_layer-1_lr-0.0002_arc-12_size-569.csv               | 0/100.0       | 0.7706    |\n",
    "| fake6_layer-2_lr-0.001_arc-128,25_size-569.csv            | 4.27/95.73    | 0.2294    |\n",
    "| fake7_layer-1_lr-0.001_arc-12_size-569.csv                | 52.76/47.24   | 0.2294    |\n",
    "| fake8_layer-2_lr-0.0005_arc-256,51_size-569.csv           | 100.0/0       | 0.2294    |\n",
    "| fake9_layer-1_lr-0.0005_arc-25_size-569.csv               | 100.0/0       | 0.2294    |\n",
    "| fake10_layer-2_lr-0.0005_arc-128,25_size-569.csv          | 100.0/0       | 0.2294    |\n",
    "| fake11_layer-1_lr-0.0005_arc-12_size-569.csv              | 0/100.0       | 0.7706    |\n",
    "\n",
    "\n",
    "## Data Scalonated\n",
    "\n",
    "| Database  | Proportion    | Test Error    |\n",
    "| --------- | ---------:    | :---------    |\n",
    "| original  | 56.53/43.47   | 0.1118        |\n",
    "| fake0     | 52.26/47.74   | 0.1824        |\n",
    "| fake1     | 56.28/43.72   | 0.0588        |\n",
    "| fake2     | 56.78/43.22   | 0.0941        |\n",
    "| fake3     | 54.02/45.98   | 0.0471        |\n",
    "| fake4     | 58.04/41.96   | 0.0647        |\n",
    "| fake5     | 54.27/45.73   | 0.0882        |\n",
    "\n",
    "## Credit Card\n",
    "\n",
    "| Database  | Proportion    | Test Error    |\n",
    "| --------- | ---------:    | :---------    |\n",
    "| original  | 99.81/0.19    | 0.0006        |\n",
    "| fake0     | 100.0/0       | 0.0013        |\n",
    "| fake1     | 100.0/0       | 0.0013        |\n",
    "| fake2     | 98.98/1.02    | 0.0013        |\n",
    "| fake3     | 96.29/3.71    | 0.1906        |\n",
    "| fake4     | 0/100.0       | 0.9987        |\n",
    "| fake5     | 100.0/0       | 0.0013        |\n",
    "\n",
    "## Credit Card Scalonated\n",
    "\n",
    "| Database  | Proportion    | Test Error    |\n",
    "| --------- | ---------:    | :---------    |\n",
    "| original  | 99.81/0.19    | 0.0006        |\n",
    "| fake0     | 100.0/0       | 0.0013        |\n",
    "| fake1     | 100.0/0       | 0.0013        |\n",
    "| fake2     | 100.0/0       | 0.0013        |\n",
    "| fake3     | 100.0/0       | 0.0013        |\n",
    "| fake4     | 100.0/0       | 0.0013        |\n",
    "| fake5     | 100.0/0       | 0.0013        |\n"
   ]
  },
  {
   "cell_type": "code",
   "execution_count": 1,
   "metadata": {},
   "outputs": [],
   "source": [
    "import numpy as np\n",
    "import pandas as pd\n",
    "from data_treatment import DataAtts\n",
    "from matplotlib import pyplot as plt\n",
    "%matplotlib inline\n",
    "\n",
    "from sklearn.tree import DecisionTreeClassifier as DT\n",
    "from sklearn.tree import export_graphviz # Decision tree from sklearn\n",
    "\n",
    "import pydotplus # Decision tree plotting\n",
    "from IPython.display import Image\n",
    "\n",
    "import ipywidgets as widgets\n",
    "import glob"
   ]
  },
  {
   "cell_type": "code",
   "execution_count": 2,
   "metadata": {},
   "outputs": [
    {
     "data": {
      "application/vnd.jupyter.widget-view+json": {
       "model_id": "f7cac17fdd4241afbc69da65595fddca",
       "version_major": 2,
       "version_minor": 0
      },
      "text/plain": [
       "Dropdown(description='Original file:', index=4, options=('original_data/creditcard.csv', 'original_data/data.c…"
      ]
     },
     "metadata": {},
     "output_type": "display_data"
    }
   ],
   "source": [
    "files_dropdown = widgets.Dropdown(\n",
    "    options=glob.glob(\"original_data/*.csv\"),\n",
    "    description='Original file:',\n",
    "    value = 'original_data/diabetes_escalonated.csv',\n",
    "    disabled=False,\n",
    ")\n",
    "display(files_dropdown)"
   ]
  },
  {
   "cell_type": "code",
   "execution_count": 18,
   "metadata": {},
   "outputs": [],
   "source": [
    "file_name = files_dropdown.value\n",
    "dataAtts = DataAtts(file_name)    \n",
    "data = pd.read_csv(file_name)\n",
    "folder_name = file_name[14:-4]\n",
    "\n",
    "# Creates the training set\n",
    "training_data = [[\"original\", data.head(int(data.shape[0]*0.7))]]\n",
    "test = data.tail(int(data.shape[0]*0.3))\n",
    "for file in glob.glob(\"fake_data/\" + folder_name + \"/*.csv\"):\n",
    "    name = \"fake\" + str(file).split(\"/\")[2][0]\n",
    "    fake_data = pd.read_csv(file)\n",
    "    fake_data.loc[getattr(fake_data, dataAtts.class_name) >= 0.5, dataAtts.class_name] = 1\n",
    "    fake_data.loc[getattr(fake_data, dataAtts.class_name) < 0.5, dataAtts.class_name] = 0\n",
    "    fake_training=fake_data.head(int(fake_data.shape[0]*0.7))\n",
    "    training_data.append([name, fake_training])"
   ]
  },
  {
   "cell_type": "code",
   "execution_count": 19,
   "metadata": {},
   "outputs": [
    {
     "name": "stdout",
     "output_type": "stream",
     "text": [
      "| Database \t| Proportion \t| Test Error \t|\n",
      "| ---------\t| ---------: \t| :--------- \t|\n",
      "| original \t| 64.8/35.2 \t| 0.2522 \t|\n",
      "| fake2 \t| 67.6/32.4 \t| 0.2522 \t|\n",
      "| fake5 \t| 68.9/31.1 \t| 0.313 \t|\n",
      "| fake0 \t| 71.69/28.31 \t| 0.3 \t|\n",
      "| fake1 \t| 67.23/32.77 \t| 0.4522 \t|\n",
      "| fake3 \t| 60.15/39.85 \t| 0.3391 \t|\n",
      "| fake4 \t| 65.18/34.82 \t| 0.2609 \t|\n"
     ]
    }
   ],
   "source": [
    "print(\"| Database \\t| Proportion \\t| Test Error \\t|\")\n",
    "print(\"| ---------\\t| ---------: \\t| :--------- \\t|\")\n",
    "\n",
    "for episode in training_data:\n",
    "        name = episode[0]\n",
    "        train = episode[1]\n",
    "        try:\n",
    "            positive=str(round(train[dataAtts.class_name].value_counts()[0]/len(train) * 100,2))\n",
    "        except:\n",
    "            positive=\"0\"\n",
    "        try:\n",
    "            negative=str(round(train[dataAtts.class_name].value_counts()[1]/len(train) * 100,2))\n",
    "        except:\n",
    "            negative=\"0\"\n",
    "        \n",
    "    \n",
    "        trainX = train.drop(dataAtts.class_name, 1)\n",
    "        testX = test.drop(dataAtts.class_name, 1)\n",
    "        y_train = train[dataAtts.class_name]\n",
    "        y_test = test[dataAtts.class_name]\n",
    "        #trainX = pd.get_dummies(trainX)\n",
    "\n",
    "        clf1 = DT(max_depth = 3, min_samples_leaf = 1)\n",
    "        clf1 = clf1.fit(trainX,y_train)\n",
    "        export_graphviz(clf1, out_file=\"models/tree.dot\", feature_names=trainX.columns, class_names=[\"0\",\"1\"], filled=True, rounded=True)\n",
    "        g = pydotplus.graph_from_dot_file(path=\"models/tree.dot\")\n",
    "\n",
    "        pred = clf1.predict_proba(testX)\n",
    "        if pred.shape[1] > 1:\n",
    "            pred = np.argmax(pred, axis=1)\n",
    "        else:\n",
    "            pred = pred.reshape((pred.shape[0]))\n",
    "            if negative==\"0\":\n",
    "                pred = pred-1\n",
    "        \n",
    "        mse = round(((pred - y_test.values)**2).mean(axis=0), 4)\n",
    "        \n",
    "        string=\"| \" + name + \" \\t| \" + positive + \"/\" + negative + \" \\t| \" + str(mse) + \" \\t|\"\n",
    "        print(string)"
   ]
  },
  {
   "cell_type": "code",
   "execution_count": null,
   "metadata": {},
   "outputs": [],
   "source": []
  }
 ],
 "metadata": {
  "kernelspec": {
   "display_name": "Python 3",
   "language": "python",
   "name": "python3"
  },
  "language_info": {
   "codemirror_mode": {
    "name": "ipython",
    "version": 3
   },
   "file_extension": ".py",
   "mimetype": "text/x-python",
   "name": "python",
   "nbconvert_exporter": "python",
   "pygments_lexer": "ipython3",
   "version": "3.6.5"
  }
 },
 "nbformat": 4,
 "nbformat_minor": 2
}
